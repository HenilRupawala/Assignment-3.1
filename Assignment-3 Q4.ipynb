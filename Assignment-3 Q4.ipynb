{
 "cells": [
  {
   "cell_type": "code",
   "execution_count": 1,
   "id": "0a44a970-9a02-42c6-91c5-904931527f17",
   "metadata": {},
   "outputs": [],
   "source": [
    "# Q4. What is a generator function in python? Why yield keyword is used? Give an example of a generator function."
   ]
  },
  {
   "cell_type": "markdown",
   "id": "6c5d324d-dd44-4d41-9b43-fd8ca0da0fd3",
   "metadata": {},
   "source": [
    "When we want to produce a large sequence of values, but we don't want to store all of them in memory at once. At that time, we use generator function. A generator is a special type of function which does not return a single value, instead, it returns an iterator object with a sequence of values.\n",
    "\n",
    "It uses yield instead of return keyword. Because this will return the value against the yield keyword each time it is called."
   ]
  },
  {
   "cell_type": "markdown",
   "id": "959c6877-f186-4dbc-bc3d-847f5781d28e",
   "metadata": {},
   "source": [
    "Example:"
   ]
  },
  {
   "cell_type": "code",
   "execution_count": 3,
   "id": "3380d4af-61fa-4c6d-b651-c37c1890aa5f",
   "metadata": {},
   "outputs": [],
   "source": [
    "def even_num(n):\n",
    "    a = 0\n",
    "    for i in range(n+1):\n",
    "        if i%2 == 0:\n",
    "            yield a\n",
    "        a += 1"
   ]
  },
  {
   "cell_type": "code",
   "execution_count": 4,
   "id": "6ddbeb34-853b-4d65-ae3e-f3282c40638c",
   "metadata": {},
   "outputs": [
    {
     "name": "stdout",
     "output_type": "stream",
     "text": [
      "0\n",
      "2\n",
      "4\n",
      "6\n",
      "8\n",
      "10\n",
      "12\n",
      "14\n",
      "16\n",
      "18\n",
      "20\n"
     ]
    }
   ],
   "source": [
    "for i in even_num(20):\n",
    "    print(i)"
   ]
  }
 ],
 "metadata": {
  "kernelspec": {
   "display_name": "Python 3 (ipykernel)",
   "language": "python",
   "name": "python3"
  },
  "language_info": {
   "codemirror_mode": {
    "name": "ipython",
    "version": 3
   },
   "file_extension": ".py",
   "mimetype": "text/x-python",
   "name": "python",
   "nbconvert_exporter": "python",
   "pygments_lexer": "ipython3",
   "version": "3.10.8"
  }
 },
 "nbformat": 4,
 "nbformat_minor": 5
}
