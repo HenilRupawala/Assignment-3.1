{
 "cells": [
  {
   "cell_type": "code",
   "execution_count": 1,
   "id": "fadbc1ac-7a61-4f02-ba52-811c72269a91",
   "metadata": {},
   "outputs": [],
   "source": [
    "# Q8. Write a python program to check whether a given number is Palindrome or not using a while loop."
   ]
  },
  {
   "cell_type": "code",
   "execution_count": null,
   "id": "1437324e-37a3-437d-b24c-e91d57799e77",
   "metadata": {},
   "outputs": [],
   "source": [
    "a = int(input('Enter the number: '))\n",
    "\n",
    "num = a\n",
    "reverse = 0\n",
    "\n",
    "while a>0:\n",
    "    reminder = a % 10\n",
    "    reverse = reverse*10 + reminder\n",
    "    a = a//10\n",
    "\n",
    "if num==reverse:\n",
    "    print(f'{num} is Palindrome number.')\n",
    "else:\n",
    "    print(f'{num} is not Palindrome number.')"
   ]
  },
  {
   "cell_type": "code",
   "execution_count": null,
   "id": "c0abf707-7e30-4729-9aec-2a6b63fc77a1",
   "metadata": {},
   "outputs": [],
   "source": []
  }
 ],
 "metadata": {
  "kernelspec": {
   "display_name": "Python 3 (ipykernel)",
   "language": "python",
   "name": "python3"
  },
  "language_info": {
   "codemirror_mode": {
    "name": "ipython",
    "version": 3
   },
   "file_extension": ".py",
   "mimetype": "text/x-python",
   "name": "python",
   "nbconvert_exporter": "python",
   "pygments_lexer": "ipython3",
   "version": "3.10.8"
  }
 },
 "nbformat": 4,
 "nbformat_minor": 5
}
