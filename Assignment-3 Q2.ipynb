{
 "cells": [
  {
   "cell_type": "code",
   "execution_count": 1,
   "id": "18f869fe-bf4e-4245-8d1d-4a60185df070",
   "metadata": {},
   "outputs": [],
   "source": [
    "# Q2. Why *args and **kwargs is used in some functions? Create a function each for *args and **kwargs to demonstrate their use."
   ]
  },
  {
   "cell_type": "raw",
   "id": "d4cd0bbc-73cf-442b-b271-083a63ff84d2",
   "metadata": {},
   "source": [
    "So basically, when you have to pass n number of arguments into the function at that time we use *args. The type of that data is Tuple.\n",
    "\n",
    "Similarly, when you have to pass n number of key-word(key-value pair) arguments into the function and get the data in the form of Dictinary at that time we use **kwargs.\n",
    "\n",
    "Note:- Here args and kwargs are just a conventional. It denotes args means arguments and kwargs means key-word(key-value) arguments. It's not compulsory to write args and kwargs after (*)asterisk. You can use any name after the (*)asterisk. For example, *data, **employee"
   ]
  },
  {
   "cell_type": "code",
   "execution_count": null,
   "id": "210fbbdb-1f33-4a9f-ac7f-80bd07f37596",
   "metadata": {},
   "outputs": [],
   "source": []
  },
  {
   "cell_type": "markdown",
   "id": "f8a0714e-a178-4625-abb9-ed904ac7bfe1",
   "metadata": {},
   "source": [
    "Example of *args:"
   ]
  },
  {
   "cell_type": "code",
   "execution_count": 15,
   "id": "b01e174b-db30-41fc-bc0c-13563e3233ba",
   "metadata": {},
   "outputs": [
    {
     "data": {
      "text/plain": [
       "(1, 2, 3, 'Henil', 'Rupawala')"
      ]
     },
     "execution_count": 15,
     "metadata": {},
     "output_type": "execute_result"
    }
   ],
   "source": [
    "def example(*data):\n",
    "    return data\n",
    "\n",
    "example(1,2,3,\"Henil\",'Rupawala')"
   ]
  },
  {
   "cell_type": "code",
   "execution_count": 12,
   "id": "4a0bba20-329a-4894-b40c-22c313b8c2c4",
   "metadata": {},
   "outputs": [
    {
     "name": "stdout",
     "output_type": "stream",
     "text": [
      "Data type of argument: <class 'tuple'>\n",
      "Sum: 3\n",
      "Data type of argument: <class 'tuple'>\n",
      "Sum: 202\n",
      "Data type of argument: <class 'tuple'>\n",
      "Sum: 1218\n"
     ]
    }
   ],
   "source": [
    "def add(*num):\n",
    "    print(\"Data type of argument:\",type(num))\n",
    "    sum = 0\n",
    "    \n",
    "    for n in num:\n",
    "        sum = sum + n\n",
    "\n",
    "    print(\"Sum:\",sum)\n",
    "\n",
    "add(1,2)\n",
    "add(12,45,56,89)\n",
    "add(102,203,456,452,5)"
   ]
  },
  {
   "cell_type": "code",
   "execution_count": null,
   "id": "f5226efc-92e5-4765-bfea-b954b750689c",
   "metadata": {},
   "outputs": [],
   "source": []
  },
  {
   "cell_type": "markdown",
   "id": "4371412f-a71f-48c6-b950-e24141cca6df",
   "metadata": {},
   "source": [
    "Example of *kwargs:"
   ]
  },
  {
   "cell_type": "code",
   "execution_count": 1,
   "id": "41bfc9fd-6fd1-405b-a53e-891788611f8b",
   "metadata": {},
   "outputs": [
    {
     "name": "stdout",
     "output_type": "stream",
     "text": [
      "Data type of argument: <class 'dict'>\n"
     ]
    },
    {
     "data": {
      "text/plain": [
       "{'fname': 'Henil', 'lname': 'Rupawala', 'age': 23}"
      ]
     },
     "execution_count": 1,
     "metadata": {},
     "output_type": "execute_result"
    }
   ],
   "source": [
    "def example2(**data):\n",
    "    print(\"Data type of argument:\",type(data))\n",
    "    return data\n",
    "\n",
    "example2(fname='Henil', lname='Rupawala', age=23)"
   ]
  }
 ],
 "metadata": {
  "kernelspec": {
   "display_name": "Python 3 (ipykernel)",
   "language": "python",
   "name": "python3"
  },
  "language_info": {
   "codemirror_mode": {
    "name": "ipython",
    "version": 3
   },
   "file_extension": ".py",
   "mimetype": "text/x-python",
   "name": "python",
   "nbconvert_exporter": "python",
   "pygments_lexer": "ipython3",
   "version": "3.10.8"
  }
 },
 "nbformat": 4,
 "nbformat_minor": 5
}
