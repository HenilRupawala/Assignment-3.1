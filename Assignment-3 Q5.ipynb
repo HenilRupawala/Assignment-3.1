{
 "cells": [
  {
   "cell_type": "code",
   "execution_count": 1,
   "id": "376acddb-332b-44c8-80c1-c0b48973fd6b",
   "metadata": {},
   "outputs": [],
   "source": [
    "# Q5. Create a generator function for prime numbers less than 1000. Use the next() method to print the first 20 prime numbers."
   ]
  },
  {
   "cell_type": "code",
   "execution_count": 13,
   "id": "8fbc5c0e-ad37-46df-964c-d31df2279cd5",
   "metadata": {},
   "outputs": [
    {
     "name": "stdout",
     "output_type": "stream",
     "text": [
      "2\n",
      "3\n",
      "5\n",
      "7\n",
      "11\n",
      "13\n",
      "17\n",
      "19\n",
      "23\n",
      "29\n",
      "31\n",
      "37\n",
      "41\n",
      "43\n",
      "47\n",
      "53\n",
      "59\n",
      "61\n",
      "67\n",
      "71\n"
     ]
    }
   ],
   "source": [
    "def prime_num():\n",
    "    yield 2\n",
    "    for i in range(3,1000,2):\n",
    "        for j in range(3,i,2):\n",
    "            if i % j == 0:\n",
    "                break\n",
    "        else:\n",
    "            yield i\n",
    "                \n",
    "prime = prime_num()\n",
    "\n",
    "for k in range(20):\n",
    "    print(next(prime))"
   ]
  }
 ],
 "metadata": {
  "kernelspec": {
   "display_name": "Python 3 (ipykernel)",
   "language": "python",
   "name": "python3"
  },
  "language_info": {
   "codemirror_mode": {
    "name": "ipython",
    "version": 3
   },
   "file_extension": ".py",
   "mimetype": "text/x-python",
   "name": "python",
   "nbconvert_exporter": "python",
   "pygments_lexer": "ipython3",
   "version": "3.10.8"
  }
 },
 "nbformat": 4,
 "nbformat_minor": 5
}
