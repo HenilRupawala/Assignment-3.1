{
 "cells": [
  {
   "cell_type": "code",
   "execution_count": 1,
   "id": "ade71d03-2fcd-438b-908e-5d722be6e7e5",
   "metadata": {},
   "outputs": [
    {
     "name": "stdin",
     "output_type": "stream",
     "text": [
      "Enter the number:  1008\n"
     ]
    },
    {
     "name": "stdout",
     "output_type": "stream",
     "text": [
      "1008 is not Palindrome number.\n"
     ]
    }
   ],
   "source": [
    "a = int(input('Enter the number: '))\n",
    "\n",
    "num = a\n",
    "reverse = 0\n",
    "\n",
    "while a>0:\n",
    "    reminder = a % 10\n",
    "    reverse = reverse*10 + reminder\n",
    "    a = a//10\n",
    "\n",
    "if num==reverse:\n",
    "    print(f'{num} is Palindrome number.')\n",
    "else:\n",
    "    print(f'{num} is not Palindrome number.')"
   ]
  },
  {
   "cell_type": "markdown",
   "id": "0342fec3-fe42-4643-b274-fb3fb210b2b5",
   "metadata": {},
   "source": [
    "Enter the number:  1008001\n",
    "\n",
    "1008001 is Palindrome number."
   ]
  },
  {
   "cell_type": "code",
   "execution_count": null,
   "id": "86b10d98-55ed-4691-a763-57d0df235cb0",
   "metadata": {},
   "outputs": [],
   "source": []
  }
 ],
 "metadata": {
  "kernelspec": {
   "display_name": "Python 3 (ipykernel)",
   "language": "python",
   "name": "python3"
  },
  "language_info": {
   "codemirror_mode": {
    "name": "ipython",
    "version": 3
   },
   "file_extension": ".py",
   "mimetype": "text/x-python",
   "name": "python",
   "nbconvert_exporter": "python",
   "pygments_lexer": "ipython3",
   "version": "3.10.8"
  }
 },
 "nbformat": 4,
 "nbformat_minor": 5
}
