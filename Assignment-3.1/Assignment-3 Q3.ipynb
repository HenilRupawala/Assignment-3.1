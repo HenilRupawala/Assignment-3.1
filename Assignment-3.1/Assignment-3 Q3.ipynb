{
 "cells": [
  {
   "cell_type": "markdown",
   "id": "f782b7c0-121a-440d-90bf-adae16c49e9e",
   "metadata": {},
   "source": [
    "Q3. What is an iterator in python? Name the method used to initialise the iterator object and the method used for iteration. Use these methods to print the first five elements of the given\n",
    "list [2, 4, 6, 8, 10, 12, 14, 16, 18, 20]."
   ]
  },
  {
   "cell_type": "markdown",
   "id": "efa04b58-5f9f-40c3-9faf-f79551c196d7",
   "metadata": {},
   "source": [
    "Iterator is an object that is used to iterate over iterable objects like string, lists, tuples, dicts, and sets. Iterators object is initialized using the iter() method. It uses the next() method for iteration."
   ]
  },
  {
   "cell_type": "code",
   "execution_count": 4,
   "id": "b6a1404f-0a60-4294-842b-e06fd7841ce4",
   "metadata": {},
   "outputs": [],
   "source": [
    "even_num = [2, 4, 6, 8, 10, 12, 14, 16, 18, 20]"
   ]
  },
  {
   "cell_type": "code",
   "execution_count": 5,
   "id": "c05a2677-fc16-4e8c-849b-e5a540ae1009",
   "metadata": {},
   "outputs": [
    {
     "ename": "TypeError",
     "evalue": "'list' object is not an iterator",
     "output_type": "error",
     "traceback": [
      "\u001b[0;31m---------------------------------------------------------------------------\u001b[0m",
      "\u001b[0;31mTypeError\u001b[0m                                 Traceback (most recent call last)",
      "Cell \u001b[0;32mIn[5], line 1\u001b[0m\n\u001b[0;32m----> 1\u001b[0m \u001b[38;5;28;43mnext\u001b[39;49m\u001b[43m(\u001b[49m\u001b[43meven_num\u001b[49m\u001b[43m)\u001b[49m\n",
      "\u001b[0;31mTypeError\u001b[0m: 'list' object is not an iterator"
     ]
    }
   ],
   "source": [
    "next(even_num)"
   ]
  },
  {
   "cell_type": "markdown",
   "id": "f568f8e6-8a04-404b-b41a-f24154e88745",
   "metadata": {},
   "source": [
    "In the above example, when I try to iterate over a list, it throws an error \"'list' object is not an iterator\". So, first, we have to convert it into an iterator by using the iter() method and then we can iterate all the element of the list."
   ]
  },
  {
   "cell_type": "code",
   "execution_count": 9,
   "id": "81162050-6b3d-45b7-a77f-9b80a2fee87a",
   "metadata": {},
   "outputs": [],
   "source": [
    "updated_even_num = iter(even_num)"
   ]
  },
  {
   "cell_type": "code",
   "execution_count": 11,
   "id": "c0064618-accb-4576-8a04-2b3ecfe7947c",
   "metadata": {},
   "outputs": [
    {
     "data": {
      "text/plain": [
       "list_iterator"
      ]
     },
     "execution_count": 11,
     "metadata": {},
     "output_type": "execute_result"
    }
   ],
   "source": [
    "type(updated_even_num)"
   ]
  },
  {
   "cell_type": "markdown",
   "id": "b07457cc-f074-461d-b7c0-1a1bf7983aff",
   "metadata": {},
   "source": [
    "The list is changed into an iterator in this instance. The first five elements of the list, as supplied in the question, can now be iterated using the next() method."
   ]
  },
  {
   "cell_type": "code",
   "execution_count": 12,
   "id": "bb1f6791-ecc5-482a-9fd8-ad4e12956b3e",
   "metadata": {},
   "outputs": [
    {
     "data": {
      "text/plain": [
       "2"
      ]
     },
     "execution_count": 12,
     "metadata": {},
     "output_type": "execute_result"
    }
   ],
   "source": [
    "next(updated_even_num)"
   ]
  },
  {
   "cell_type": "code",
   "execution_count": 13,
   "id": "c5021852-0498-41d6-a5b2-0d7769be78c0",
   "metadata": {},
   "outputs": [
    {
     "data": {
      "text/plain": [
       "4"
      ]
     },
     "execution_count": 13,
     "metadata": {},
     "output_type": "execute_result"
    }
   ],
   "source": [
    "next(updated_even_num)"
   ]
  },
  {
   "cell_type": "code",
   "execution_count": 14,
   "id": "e997fd24-9b1a-4756-a9d1-471dddac52d1",
   "metadata": {},
   "outputs": [
    {
     "data": {
      "text/plain": [
       "6"
      ]
     },
     "execution_count": 14,
     "metadata": {},
     "output_type": "execute_result"
    }
   ],
   "source": [
    "next(updated_even_num)"
   ]
  },
  {
   "cell_type": "code",
   "execution_count": 15,
   "id": "c4b93b44-7044-4718-8f8c-a40e0165aeb2",
   "metadata": {},
   "outputs": [
    {
     "data": {
      "text/plain": [
       "8"
      ]
     },
     "execution_count": 15,
     "metadata": {},
     "output_type": "execute_result"
    }
   ],
   "source": [
    "next(updated_even_num)"
   ]
  },
  {
   "cell_type": "code",
   "execution_count": 16,
   "id": "d56341f2-eb3d-45df-a8c0-a3ed40fba2c4",
   "metadata": {},
   "outputs": [
    {
     "data": {
      "text/plain": [
       "10"
      ]
     },
     "execution_count": 16,
     "metadata": {},
     "output_type": "execute_result"
    }
   ],
   "source": [
    "next(updated_even_num)"
   ]
  },
  {
   "cell_type": "code",
   "execution_count": 10,
   "id": "ac64f1ec-ebd0-4010-9a46-af5d83111f90",
   "metadata": {},
   "outputs": [
    {
     "name": "stdout",
     "output_type": "stream",
     "text": [
      "2\n",
      "4\n",
      "6\n",
      "8\n",
      "10\n"
     ]
    }
   ],
   "source": [
    "# You can also do this\n",
    "\n",
    "for i in range(5):\n",
    "    print(next(updated_even_num))"
   ]
  }
 ],
 "metadata": {
  "kernelspec": {
   "display_name": "Python 3 (ipykernel)",
   "language": "python",
   "name": "python3"
  },
  "language_info": {
   "codemirror_mode": {
    "name": "ipython",
    "version": 3
   },
   "file_extension": ".py",
   "mimetype": "text/x-python",
   "name": "python",
   "nbconvert_exporter": "python",
   "pygments_lexer": "ipython3",
   "version": "3.10.8"
  }
 },
 "nbformat": 4,
 "nbformat_minor": 5
}
