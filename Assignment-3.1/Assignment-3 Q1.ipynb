{
 "cells": [
  {
   "cell_type": "code",
   "execution_count": 1,
   "id": "b576a168-13ec-493b-9f4c-1ea10ccd93f2",
   "metadata": {},
   "outputs": [],
   "source": [
    "# Q1. Which keyword is used to create a function? Create a function to return a list of odd numbers in the range of 1 to 25."
   ]
  },
  {
   "cell_type": "markdown",
   "id": "1fdbbe6d-be85-4175-9d19-2dc26f6693e8",
   "metadata": {},
   "source": [
    "'def' keyword is used for create a function."
   ]
  },
  {
   "cell_type": "code",
   "execution_count": 5,
   "id": "f59bd44a-3574-4bfd-aed6-99424f411fd3",
   "metadata": {},
   "outputs": [],
   "source": [
    "def odd_num():\n",
    "    l1 = []\n",
    "    for i in range(1,26):\n",
    "        if i%2 != 0:\n",
    "            l1.append(i)\n",
    "    return l1"
   ]
  },
  {
   "cell_type": "code",
   "execution_count": 6,
   "id": "69f0c10c-3589-4209-b573-4db2250c1f40",
   "metadata": {},
   "outputs": [
    {
     "data": {
      "text/plain": [
       "[1, 3, 5, 7, 9, 11, 13, 15, 17, 19, 21, 23, 25]"
      ]
     },
     "execution_count": 6,
     "metadata": {},
     "output_type": "execute_result"
    }
   ],
   "source": [
    "odd_num()"
   ]
  }
 ],
 "metadata": {
  "kernelspec": {
   "display_name": "Python 3 (ipykernel)",
   "language": "python",
   "name": "python3"
  },
  "language_info": {
   "codemirror_mode": {
    "name": "ipython",
    "version": 3
   },
   "file_extension": ".py",
   "mimetype": "text/x-python",
   "name": "python",
   "nbconvert_exporter": "python",
   "pygments_lexer": "ipython3",
   "version": "3.10.8"
  }
 },
 "nbformat": 4,
 "nbformat_minor": 5
}
